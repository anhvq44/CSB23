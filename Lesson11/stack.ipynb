{
 "cells": [
  {
   "cell_type": "markdown",
   "id": "d579cfe3",
   "metadata": {},
   "source": [
    "## Stack\n",
    "- **Ngăn xếp (Stack)** là một kiểu danh sách mà thao tác thêm và xóa phần tử được thực hiện ở **cuối danh sách**.\n",
    "- Stack là kiểu dữ liệu **Last In - First Out** (**LIFO**).\n",
    "- **Độ phức tạp** của thao tác thêm/xóa: **O(1)**"
   ]
  },
  {
   "cell_type": "code",
   "execution_count": 1,
   "id": "c9d97417",
   "metadata": {},
   "outputs": [],
   "source": [
    "#khai báo (sd list để biểu diễn stack)\n",
    "stack = [54, 231, 65, 32]"
   ]
  },
  {
   "cell_type": "code",
   "execution_count": 2,
   "id": "234208df",
   "metadata": {},
   "outputs": [
    {
     "data": {
      "text/plain": [
       "32"
      ]
     },
     "execution_count": 2,
     "metadata": {},
     "output_type": "execute_result"
    }
   ],
   "source": [
    "#Peek: truy cập phần tử\n",
    "stack[-1] #lấy phần tử cuối"
   ]
  },
  {
   "cell_type": "code",
   "execution_count": null,
   "id": "ff196efd",
   "metadata": {},
   "outputs": [
    {
     "data": {
      "text/plain": [
       "[54, 231, 65, 32, 12, 12]"
      ]
     },
     "execution_count": 4,
     "metadata": {},
     "output_type": "execute_result"
    }
   ],
   "source": [
    "#Push: thêm phần tử vào cuối (đỉnh stack)\n",
    "stack.append(12)\n",
    "stack"
   ]
  },
  {
   "cell_type": "code",
   "execution_count": null,
   "id": "e97fe356",
   "metadata": {},
   "outputs": [
    {
     "data": {
      "text/plain": [
       "[54, 231, 65, 32]"
      ]
     },
     "execution_count": 7,
     "metadata": {},
     "output_type": "execute_result"
    }
   ],
   "source": [
    "#Pop: xóa phần tử cuối (đỉnh stack)\n",
    "stack.pop()\n",
    "stack"
   ]
  },
  {
   "cell_type": "code",
   "execution_count": 8,
   "id": "0eeae323",
   "metadata": {},
   "outputs": [
    {
     "name": "stdout",
     "output_type": "stream",
     "text": [
      "[54, 231, 65, 32]\n"
     ]
    }
   ],
   "source": [
    "#Kt rỗng\n",
    "if(len(stack) == 0):\n",
    "    print(\"Empty\")\n",
    "else:\n",
    "    print(stack)"
   ]
  }
 ],
 "metadata": {
  "kernelspec": {
   "display_name": "Python 3",
   "language": "python",
   "name": "python3"
  },
  "language_info": {
   "codemirror_mode": {
    "name": "ipython",
    "version": 3
   },
   "file_extension": ".py",
   "mimetype": "text/x-python",
   "name": "python",
   "nbconvert_exporter": "python",
   "pygments_lexer": "ipython3",
   "version": "3.13.1"
  }
 },
 "nbformat": 4,
 "nbformat_minor": 5
}
