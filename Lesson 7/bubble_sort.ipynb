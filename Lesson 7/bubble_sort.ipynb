{
 "cells": [
  {
   "cell_type": "markdown",
   "id": "3d3af6fd",
   "metadata": {},
   "source": [
    "- Thuật toán nổi bọt O(n2)\n",
    "- Chạy vòng lặp, bắt cặp -> swap vị trí"
   ]
  },
  {
   "cell_type": "code",
   "execution_count": 1,
   "id": "903affa9",
   "metadata": {},
   "outputs": [],
   "source": [
    "def bubble_sort(arr):\n",
    "    for i in range(len(arr)):\n",
    "        swapped = False\n",
    "        for j in range(0, len(arr)-i-1):\n",
    "            if arr[j]>arr[j+1]:\n",
    "                arr[j], arr[j+1] = arr[j+1], arr[j]\n",
    "                swapped = True\n",
    "        if not swapped:\n",
    "            break\n",
    "    return arr"
   ]
  },
  {
   "cell_type": "code",
   "execution_count": 2,
   "id": "002b33a9",
   "metadata": {},
   "outputs": [
    {
     "name": "stdout",
     "output_type": "stream",
     "text": [
      "[922, 174, 395, 304, 643, 554, 241, 185, 782, 325, 264, 197, 898, 665, 354, 625, 525, 46, 672, 623, 198, 1, 440, 698, 742, 544, 983, 799, 629, 610, 994, 905, 539, 574, 613, 678, 547, 38, 403, 35, 671, 546, 416, 630, 408, 624, 282, 312, 192, 368, 664, 7, 702, 705, 14, 457, 517, 343, 658, 487, 929, 915, 190, 647, 346, 575, 696, 483, 826, 370, 392, 400, 296, 486, 377, 193, 206, 474, 889, 961, 823, 590, 789, 807, 435, 766, 32, 170, 277, 477, 65, 973, 285, 691, 387, 248, 760, 9, 236, 603]\n",
      "[1, 7, 9, 14, 32, 35, 38, 46, 65, 170, 174, 185, 190, 192, 193, 197, 198, 206, 236, 241, 248, 264, 277, 282, 285, 296, 304, 312, 325, 343, 346, 354, 368, 370, 377, 387, 392, 395, 400, 403, 408, 416, 435, 440, 457, 474, 477, 483, 486, 487, 517, 525, 539, 544, 546, 547, 554, 574, 575, 590, 603, 610, 613, 623, 624, 625, 629, 630, 643, 647, 658, 664, 665, 671, 672, 678, 691, 696, 698, 702, 705, 742, 760, 766, 782, 789, 799, 807, 823, 826, 889, 898, 905, 915, 922, 929, 961, 973, 983, 994]\n",
      "Time: 0.0034s\n"
     ]
    }
   ],
   "source": [
    "import random\n",
    "import timeit\n",
    "arr = random.sample(range(1000), 100)\n",
    "print(arr)\n",
    "exc_time = timeit.timeit(lambda: bubble_sort(arr), number=1000)\n",
    "print(bubble_sort(arr))\n",
    "print(f\"Time: {(exc_time):.4f}s\")"
   ]
  }
 ],
 "metadata": {
  "kernelspec": {
   "display_name": "Python 3",
   "language": "python",
   "name": "python3"
  },
  "language_info": {
   "codemirror_mode": {
    "name": "ipython",
    "version": 3
   },
   "file_extension": ".py",
   "mimetype": "text/x-python",
   "name": "python",
   "nbconvert_exporter": "python",
   "pygments_lexer": "ipython3",
   "version": "3.13.1"
  }
 },
 "nbformat": 4,
 "nbformat_minor": 5
}
