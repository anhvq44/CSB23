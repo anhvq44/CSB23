{
 "cells": [
  {
   "cell_type": "markdown",
   "id": "0f9cf259",
   "metadata": {},
   "source": [
    "- Thuật toán chèn O(n2)\n",
    "- Input: mảng chx sắp xếp\n",
    "- Output: mảng đã sắp xếp"
   ]
  },
  {
   "cell_type": "code",
   "execution_count": 1,
   "id": "a5b31399",
   "metadata": {},
   "outputs": [],
   "source": [
    "def insertion_sort(arr):\n",
    "    for i in range(1, len(arr)):\n",
    "        insert_index = i\n",
    "        current_val = arr.pop(i)\n",
    "        for j in range(i - 1, -1, -1):\n",
    "            if arr[j]>current_val:\n",
    "                insert_index = j\n",
    "        arr.insert(insert_index, current_val)\n",
    "    return arr"
   ]
  },
  {
   "cell_type": "code",
   "execution_count": 10,
   "id": "1b16b32b",
   "metadata": {},
   "outputs": [
    {
     "name": "stdout",
     "output_type": "stream",
     "text": [
      "[622, 357, 649, 600, 52, 768, 939, 861, 63, 223, 310, 150, 8, 933, 974, 839, 56, 485, 286, 965, 591, 997, 103, 36, 791, 953, 377, 172, 194, 761, 13, 281, 298, 278, 295, 489, 500, 742, 361, 920, 651, 650, 366, 569, 140, 234, 713, 854, 232, 975, 197, 899, 755, 227, 421, 752, 655, 171, 456, 177, 519, 17, 343, 233, 706, 306, 735, 105, 94, 585, 753, 666, 362, 10, 211, 781, 244, 491, 528, 45, 769, 829, 759, 214, 887, 566, 464, 778, 638, 324, 501, 179, 269, 342, 137, 779, 770, 619, 401, 896]\n",
      "[8, 10, 13, 17, 36, 45, 52, 56, 63, 94, 103, 105, 137, 140, 150, 171, 172, 177, 179, 194, 197, 211, 214, 223, 227, 232, 233, 234, 244, 269, 278, 281, 286, 295, 298, 306, 310, 324, 342, 343, 357, 361, 362, 366, 377, 401, 421, 456, 464, 485, 489, 491, 500, 501, 519, 528, 566, 569, 585, 591, 600, 619, 622, 638, 649, 650, 651, 655, 666, 706, 713, 735, 742, 752, 753, 755, 759, 761, 768, 769, 770, 778, 779, 781, 791, 829, 839, 854, 861, 887, 896, 899, 920, 933, 939, 953, 965, 974, 975, 997]\n",
      "Time: 0.1018s\n"
     ]
    }
   ],
   "source": [
    "import random\n",
    "import timeit\n",
    "arr = random.sample(range(1000), 100)\n",
    "print(arr)\n",
    "exc_time = timeit.timeit(lambda: insertion_sort(arr), number=1000)\n",
    "print(insertion_sort(arr))\n",
    "print(f\"Time: {(exc_time):.4f}s\")"
   ]
  }
 ],
 "metadata": {
  "kernelspec": {
   "display_name": "Python 3",
   "language": "python",
   "name": "python3"
  },
  "language_info": {
   "codemirror_mode": {
    "name": "ipython",
    "version": 3
   },
   "file_extension": ".py",
   "mimetype": "text/x-python",
   "name": "python",
   "nbconvert_exporter": "python",
   "pygments_lexer": "ipython3",
   "version": "3.13.1"
  }
 },
 "nbformat": 4,
 "nbformat_minor": 5
}
