{
 "cells": [
  {
   "cell_type": "markdown",
   "id": "0c11c0bc",
   "metadata": {},
   "source": [
    "# Item:\n",
    "- propteries: [id, name, price]\n",
    "- methods: getter + setter, toString, compareTo\n",
    "\n",
    "# Order:\n",
    "- properties: [id, account, item_list (dict), voucher (str)]\n",
    "- methods: getVoucherPromo() - 10%, getBulkOrderPromo() - 10%, setScore(), printBill(), total()\n",
    "\n",
    "# Account: \n",
    "- properties: [id, name, score]\n",
    "- methods: getLoyaltyPromo() - 15%"
   ]
  },
  {
   "cell_type": "code",
   "execution_count": 1,
   "id": "7f2e8daf",
   "metadata": {},
   "outputs": [],
   "source": [
    "class Item:\n",
    "    def __init__(self, id: int, name: str, price: float) -> None:\n",
    "        self.__id = id,\n",
    "        self.__name = name\n",
    "        self.__price = price\n",
    "        \n",
    "    # Get value\n",
    "    @property\n",
    "    def id(self) -> int:\n",
    "        return self.__id\n",
    "    @property\n",
    "    def name(self) -> str:\n",
    "        return self.__name\n",
    "    @property\n",
    "    def price(self) -> float:\n",
    "        return self.__price\n",
    "    \n",
    "    # Set value\n",
    "    @id.setter\n",
    "    def id(self, id: int):\n",
    "        self.__id = id\n",
    "    @name.setter\n",
    "    def name(self, name: str):\n",
    "        self.__name = name\n",
    "    @price.setter\n",
    "    def price(self, price: float):\n",
    "        self.__price = price\n",
    "        \n",
    "    def __str__ (self):\n",
    "        return f\"Item(id={self.__id}, name='{self.__name}', price={self.__price})\"\n",
    "    \n",
    "    def __lt__(self, other):\n",
    "        if isinstance(other, Item):\n",
    "            return self.__id < other.__id\n",
    "        return NotImplemented\n",
    "    \n",
    "    def compare_to(self, other):\n",
    "        if not isinstance(other, Item):\n",
    "            raise ValueError(\"Can only compare with another Item\")\n",
    "        return self.__id - other.__id"
   ]
  },
  {
   "cell_type": "code",
   "execution_count": null,
   "id": "4f35a574",
   "metadata": {},
   "outputs": [],
   "source": [
    "class Account:\n",
    "    def __init__(self, id: int, name: str):\n",
    "        self.id = id\n",
    "        self.name = name\n",
    "        self.__score = 0\n",
    "        \n",
    "    @property\n",
    "    def score(self):\n",
    "        return self.__score\n",
    "    \n",
    "    def add_score(self, points: int):\n",
    "        self.__score += points\n",
    "\n",
    "    def getLoyaltyPromo(self):\n",
    "        \"\"\"15% discount if score is high (>= 100), else no discount\"\"\"\n",
    "        return 0.15 if self.__score >= 100 else 0.0\n",
    "    def __str__(self):\n",
    "        return f\"Account(id={self.id}, name='{self.name}', score={self.__score})\""
   ]
  },
  {
   "cell_type": "code",
   "execution_count": null,
   "id": "a11e9667",
   "metadata": {},
   "outputs": [
    {
     "ename": "_IncompleteInputError",
     "evalue": "incomplete input (3776429129.py, line 19)",
     "output_type": "error",
     "traceback": [
      "  \u001b[36mCell\u001b[39m\u001b[36m \u001b[39m\u001b[32mIn[3]\u001b[39m\u001b[32m, line 19\u001b[39m\n\u001b[31m    \u001b[39m\u001b[31mdef remove_item(self, id):\u001b[39m\n                              ^\n\u001b[31m_IncompleteInputError\u001b[39m\u001b[31m:\u001b[39m incomplete input\n"
     ]
    }
   ],
   "source": [
    "# Item Manager: contain the chosen items\n",
    "class ItemManager:\n",
    "    def __init__(self):\n",
    "        self.items = {}\n",
    "    \n",
    "    def add_items(self, item):\n",
    "        if item.id not in self.items:\n",
    "            self.items[item.id] = (item, 1)\n",
    "        else:\n",
    "            new_qty = self.items[item.id]+1\n",
    "            self.items[item.id] = (item, new_qty)\n",
    "            \n",
    "    def edit_item(self, id, new_item):\n",
    "        if id in self.items:\n",
    "            self.items[id] = (new_item, self.items[id][1])\n",
    "        else:\n",
    "            raise Exception(\"Item not found\")\n",
    "        \n",
    "    def remove_item(self, id):\n",
    "        if id in self.items:\n",
    "            del self.items[id]\n",
    "        else:\n",
    "            raise Exception(\"Item not found\")\n",
    "        \n",
    "    def get_price_by_qty(self, id):\n",
    "        if id in self.items:\n",
    "            return self.items[id][0].price * self.items[id][1]\n",
    "        else:\n",
    "            raise Exception(\"Item not found\")\n",
    "        \n",
    "    def get_sum_qty(self):\n",
    "        return sum(item[1] for item in self.items.values())\n",
    "    \n",
    "    def get_total_of_list(self):\n",
    "        sum = 0\n",
    "        for i in range(len(self.items)):\n",
    "            sum+=self.get_price_by_qty(i[0].id)\n",
    "        return sum"
   ]
  },
  {
   "cell_type": "code",
   "execution_count": null,
   "id": "7eaf1d7f",
   "metadata": {},
   "outputs": [],
   "source": []
  }
 ],
 "metadata": {
  "kernelspec": {
   "display_name": "Python 3",
   "language": "python",
   "name": "python3"
  },
  "language_info": {
   "codemirror_mode": {
    "name": "ipython",
    "version": 3
   },
   "file_extension": ".py",
   "mimetype": "text/x-python",
   "name": "python",
   "nbconvert_exporter": "python",
   "pygments_lexer": "ipython3",
   "version": "3.13.1"
  }
 },
 "nbformat": 4,
 "nbformat_minor": 5
}
