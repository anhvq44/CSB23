{
 "cells": [
  {
   "cell_type": "markdown",
   "id": "9af24222",
   "metadata": {},
   "source": [
    "### Đặc điểm\n",
    "- **Không trùng lặp** phần tử\n",
    "- Phần tự **ko có thứ tự**\n",
    "- Có thể thay đổi (**mutable**)"
   ]
  },
  {
   "cell_type": "code",
   "execution_count": 9,
   "id": "46b22aaa",
   "metadata": {},
   "outputs": [],
   "source": [
    "# Khai báo\n",
    "set1 = set() #Nếu dùng Ơ} -> hiểu nhầm là dict\n",
    "set2 = {'b', 'm', 's', 's'} #Output: {'b', 'm', 's'}"
   ]
  },
  {
   "cell_type": "code",
   "execution_count": 10,
   "id": "d7cd161d",
   "metadata": {},
   "outputs": [
    {
     "name": "stdout",
     "output_type": "stream",
     "text": [
      "m\n",
      "b\n",
      "s\n"
     ]
    }
   ],
   "source": [
    "# Truy cập\n",
    "for i in set2:\n",
    "    print(i)\n",
    "    "
   ]
  },
  {
   "cell_type": "code",
   "execution_count": 11,
   "id": "e4ce76bf",
   "metadata": {},
   "outputs": [
    {
     "name": "stdout",
     "output_type": "stream",
     "text": [
      "{'m', 'b', 'new', 's'}\n",
      "{'m', 'sth2', 'b', 's', 'new', 'sth1'}\n"
     ]
    }
   ],
   "source": [
    "# Thêm\n",
    "set2.add('new')\n",
    "print(set2)\n",
    "\n",
    "set2.update({'sth2', 'sth1'})\n",
    "print(set2)"
   ]
  },
  {
   "cell_type": "code",
   "execution_count": 14,
   "id": "42be6516",
   "metadata": {},
   "outputs": [],
   "source": [
    "# Xóa\n",
    "set2.remove('new') #Nếu ko có -> Báo lỗi\n",
    "\n",
    "set2.discard(\"apple\")#Nếu ko có -> Ko báo lỗi"
   ]
  },
  {
   "cell_type": "markdown",
   "id": "4597f516",
   "metadata": {},
   "source": [
    "### Phép toán"
   ]
  },
  {
   "cell_type": "markdown",
   "id": "2efcb7df",
   "metadata": {},
   "source": [
    "#### Phép hợp (union):\n",
    " - Phép **cộng** 2 set\n",
    " - Sd hàm: set1.union(set2)\n",
    " - Hoặc: set1 | set2\n",
    " - Trả 1 mảng mới"
   ]
  },
  {
   "cell_type": "code",
   "execution_count": 16,
   "id": "c4e3690a",
   "metadata": {},
   "outputs": [
    {
     "name": "stdout",
     "output_type": "stream",
     "text": [
      "All skills: {'react', 'nodejs', 'flask', 'nextjs', 'spring', 'angular'}\n"
     ]
    }
   ],
   "source": [
    "back_end = {'nodejs', 'spring', 'flask'}\n",
    "front_end = {'nodejs', 'nextjs', 'react', 'angular'}\n",
    "print(f'All skills: {back_end|front_end}')"
   ]
  },
  {
   "cell_type": "markdown",
   "id": "793c4d5c",
   "metadata": {},
   "source": [
    "#### Phép giao (intersection):\n",
    "- Lấy phần tử **có trong cả 2 set**\n",
    "- Sd hàm: set1.intersection(set2)\n",
    "- Hoặc: set1 & set2\n",
    "- Return 1 mảng mới"
   ]
  },
  {
   "cell_type": "code",
   "execution_count": 17,
   "id": "eaed18ef",
   "metadata": {},
   "outputs": [
    {
     "name": "stdout",
     "output_type": "stream",
     "text": [
      "Skills for both front and back: {'nodejs'}\n"
     ]
    }
   ],
   "source": [
    "print(f'Skills for both front and back: {back_end&front_end}')"
   ]
  },
  {
   "cell_type": "markdown",
   "id": "b74cba22",
   "metadata": {},
   "source": [
    "#### Phép hiệu (subtraction):\n",
    "- Lấy **phần tử của mảng trừ (set1) mà ko trùng với mảng còn lại (set2)**\n",
    "- Sd hàm: set1.difference(set2)\n",
    "- Hoặc: set1 - set2\n",
    "- Return 1 mảng mới"
   ]
  },
  {
   "cell_type": "code",
   "execution_count": 18,
   "id": "db611301",
   "metadata": {},
   "outputs": [
    {
     "name": "stdout",
     "output_type": "stream",
     "text": [
      "Back end skills only: {'flask', 'spring'}\n",
      "Front end skills only: {'nextjs', 'react', 'angular'}\n"
     ]
    }
   ],
   "source": [
    "print(f'Back end skills only: {back_end.difference(front_end)}')\n",
    "print(f'Front end skills only: {front_end - back_end}')"
   ]
  }
 ],
 "metadata": {
  "kernelspec": {
   "display_name": "Python 3",
   "language": "python",
   "name": "python3"
  },
  "language_info": {
   "codemirror_mode": {
    "name": "ipython",
    "version": 3
   },
   "file_extension": ".py",
   "mimetype": "text/x-python",
   "name": "python",
   "nbconvert_exporter": "python",
   "pygments_lexer": "ipython3",
   "version": "3.13.1"
  }
 },
 "nbformat": 4,
 "nbformat_minor": 5
}
