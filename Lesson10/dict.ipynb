{
 "cells": [
  {
   "cell_type": "markdown",
   "id": "7ac4fc0a",
   "metadata": {},
   "source": [
    "### Ánh xạ (mapping):\n",
    "- Sd hàm: **map(fun, iterable)**\n",
    "- Return kiểu dữ liệu **map** -> **ép về kiểu dữ liệu cũ** sau khi map  "
   ]
  },
  {
   "cell_type": "code",
   "execution_count": null,
   "id": "6d563fa9",
   "metadata": {},
   "outputs": [],
   "source": [
    "from faker import Faker\n",
    "fake = Faker()\n",
    "name_list = [fake.name() for _ in range(20)]\n",
    "name_list"
   ]
  },
  {
   "cell_type": "code",
   "execution_count": 7,
   "id": "49e35931",
   "metadata": {},
   "outputs": [
    {
     "name": "stdout",
     "output_type": "stream",
     "text": [
      "['MONIQUE', 'SCOTT', 'MEGAN', 'WILLIAM', 'ELIZABETH', 'LORETTA', 'KATHY', 'MAX', 'LUCAS', 'LINDA', 'GREGORY', 'JOSE', 'JAMES', 'TERESA', 'HALEY', 'MICHAEL', 'ANDREW', 'RICHARD', 'JOSE', 'GEORGE']\n"
     ]
    }
   ],
   "source": [
    "first_name = map(lambda fullName: fullName.split()[0].upper(), name_list)\n",
    "print(list(first_name))"
   ]
  },
  {
   "cell_type": "markdown",
   "id": "aa8e00bf",
   "metadata": {},
   "source": [
    "### Dictionary:\n",
    "- Sd cơ chế mapping: **key**(str) -> **value**(bất kì)\n",
    "- **Ko** có chỉ số **index**\n",
    "- **Ko trùng lặp key**"
   ]
  },
  {
   "cell_type": "code",
   "execution_count": null,
   "id": "2e4b58c3",
   "metadata": {},
   "outputs": [
    {
     "name": "stdout",
     "output_type": "stream",
     "text": [
      "False\n"
     ]
    }
   ],
   "source": [
    "#Khai báo\n",
    "dict1 = {}\n",
    "dict2 = dict()\n",
    "student_obj = {'id': 1, 'name': 'Steve'}"
   ]
  },
  {
   "cell_type": "code",
   "execution_count": 13,
   "id": "b4609e06",
   "metadata": {},
   "outputs": [
    {
     "name": "stdout",
     "output_type": "stream",
     "text": [
      "Student name: Steve\n",
      "Student id: 1\n"
     ]
    }
   ],
   "source": [
    "#Truy xuất\n",
    "print(f'Student name: {student_obj['name']}')\n",
    "print(f'Student id: {student_obj.get('id')}')"
   ]
  },
  {
   "cell_type": "code",
   "execution_count": null,
   "id": "544347cc",
   "metadata": {},
   "outputs": [
    {
     "data": {
      "text/plain": [
       "{'id': 1, 'name': 'Steve', 'age': 12}"
      ]
     },
     "execution_count": 12,
     "metadata": {},
     "output_type": "execute_result"
    }
   ],
   "source": [
    "#Thêm/cập nhật\n",
    "student_obj['age'] = 20 #Nếu ko trùng key có sẵn -> tạo key mới\n",
    "student_obj['age'] = 12 #Nếu trùng key có sẵn -> update value\n",
    "student_obj"
   ]
  },
  {
   "cell_type": "code",
   "execution_count": 11,
   "id": "e9ff7c03",
   "metadata": {},
   "outputs": [
    {
     "data": {
      "text/plain": [
       "{'id': 1, 'name': 'Steve'}"
      ]
     },
     "execution_count": 11,
     "metadata": {},
     "output_type": "execute_result"
    }
   ],
   "source": [
    "#Xóa\n",
    "del student_obj['age']\n",
    "student_obj"
   ]
  }
 ],
 "metadata": {
  "kernelspec": {
   "display_name": "Python 3",
   "language": "python",
   "name": "python3"
  },
  "language_info": {
   "codemirror_mode": {
    "name": "ipython",
    "version": 3
   },
   "file_extension": ".py",
   "mimetype": "text/x-python",
   "name": "python",
   "nbconvert_exporter": "python",
   "pygments_lexer": "ipython3",
   "version": "3.13.1"
  }
 },
 "nbformat": 4,
 "nbformat_minor": 5
}
