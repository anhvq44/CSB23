{
 "cells": [
  {
   "cell_type": "markdown",
   "id": "c9522d94",
   "metadata": {},
   "source": [
    "### QUEUE (Hàng Đợi)\n",
    "- Là danh sách **thêm** phần tử **ở cuối** và **loại bỏ** phần tử ở **đầu**.\n",
    "> First in - First out (FIFO)"
   ]
  },
  {
   "cell_type": "code",
   "execution_count": null,
   "id": "bf34e2a7",
   "metadata": {},
   "outputs": [],
   "source": [
    "# Xây dựng class queue\n",
    "class Queue:\n",
    "    def __init__(self):\n",
    "        self.__queue = []\n",
    "        \n",
    "    # Thêm phần tử ở cuối\n",
    "    def enqueue(self, new_item):\n",
    "        self.__queue.append(new_item)\n",
    "    \n",
    "    # Xóa phần tử ở đầu\n",
    "    def dequeue(self):\n",
    "        if not self.is_empty():\n",
    "            return self.__queue.pop(0)\n",
    "        \n",
    "    def is_empty(self):\n",
    "        return len(self.__queue) == 0\n",
    "    \n",
    "    def clear(self):\n",
    "        self.__queue = []\n",
    "        return self.__queue\n",
    "    \n",
    "    @property\n",
    "    def size(self):\n",
    "        return int(len(self.__queue))\n",
    "    \n",
    "    @property\n",
    "    def front(self):\n",
    "        if not self.is_empty(): return self.__queue[0]\n",
    "        \n",
    "    def __str__(self):\n",
    "        return str(self.__queue)"
   ]
  },
  {
   "cell_type": "code",
   "execution_count": 15,
   "id": "5fc850dd",
   "metadata": {},
   "outputs": [
    {
     "name": "stdout",
     "output_type": "stream",
     "text": [
      "[1, 65, 'hi', 3.29]\n",
      "1\n",
      "[65, 'hi', 3.29]\n",
      "3\n",
      "65\n",
      "None\n",
      "True\n"
     ]
    }
   ],
   "source": [
    "queue = Queue()\n",
    "queue.enqueue(1)\n",
    "queue.enqueue(65)\n",
    "queue.enqueue(\"hi\")\n",
    "queue.enqueue(3.29)\n",
    "print(queue)\n",
    "print(queue.dequeue())\n",
    "print(queue)\n",
    "print(queue.size)\n",
    "print(queue.front)\n",
    "print(queue.clear())\n",
    "print(queue.is_empty())"
   ]
  }
 ],
 "metadata": {
  "kernelspec": {
   "display_name": "Python 3",
   "language": "python",
   "name": "python3"
  },
  "language_info": {
   "codemirror_mode": {
    "name": "ipython",
    "version": 3
   },
   "file_extension": ".py",
   "mimetype": "text/x-python",
   "name": "python",
   "nbconvert_exporter": "python",
   "pygments_lexer": "ipython3",
   "version": "3.13.1"
  }
 },
 "nbformat": 4,
 "nbformat_minor": 5
}
