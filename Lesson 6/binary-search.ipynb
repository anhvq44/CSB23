{
 "cells": [
  {
   "cell_type": "markdown",
   "id": "e83a062c",
   "metadata": {},
   "source": [
    "Chia doi danh sach de tim kiem (mid, start, end)\n",
    "<br>\n",
    "**Do phuc tap: O(log2(n))**"
   ]
  },
  {
   "cell_type": "code",
   "execution_count": 1,
   "id": "e17df07d",
   "metadata": {},
   "outputs": [],
   "source": [
    "def binarySearch(arr, target):\n",
    "    if not arr:\n",
    "        return -1\n",
    "    low = 0\n",
    "    high = len(arr) - 1\n",
    "    while low <= high:\n",
    "        middle = (high-low)//2 + low\n",
    "        if arr[middle] == target:\n",
    "            return middle\n",
    "        if arr[middle]<target:\n",
    "            low = middle+1\n",
    "        elif arr[middle]>target:\n",
    "            high = middle-1\n",
    "            \n",
    "    return -1"
   ]
  },
  {
   "cell_type": "code",
   "execution_count": 4,
   "id": "efcb4cb4",
   "metadata": {},
   "outputs": [],
   "source": [
    "import timeit\n",
    "import random\n",
    "arr = [random.randint(-10, 100) for _ in range(1000)]\n",
    "arr.sort()"
   ]
  },
  {
   "cell_type": "code",
   "execution_count": null,
   "id": "4cb6d965",
   "metadata": {},
   "outputs": [
    {
     "name": "stdout",
     "output_type": "stream",
     "text": [
      "Time:  0.0007997001521289349\n"
     ]
    }
   ],
   "source": [
    "print(\"Time: \", timeit.timeit(lambda: binarySearch(arr, -300), number=1000))"
   ]
  },
  {
   "cell_type": "markdown",
   "id": "a33f0317",
   "metadata": {},
   "source": [
    "### Code De Quy"
   ]
  },
  {
   "cell_type": "code",
   "execution_count": 17,
   "id": "2c1232b8",
   "metadata": {},
   "outputs": [],
   "source": [
    "def binarySearchRecursive(arr, target, low, high):\n",
    "    if low > high: return -1\n",
    "    mid = (high - low)//2 + low\n",
    "    if arr[mid] == target:\n",
    "        return mid\n",
    "    if arr[mid]<target:\n",
    "        return binarySearchRecursive(arr, target, mid+1, high)\n",
    "    elif arr[mid]>target:\n",
    "        return binarySearchRecursive(arr, target, low, mid-1)"
   ]
  },
  {
   "cell_type": "code",
   "execution_count": 9,
   "id": "81e60af4",
   "metadata": {},
   "outputs": [],
   "source": [
    "def run(arr, target):\n",
    "    if not arr: return -1\n",
    "    return binarySearchRecursive(arr, target, 0, len(arr) - 1)"
   ]
  },
  {
   "cell_type": "code",
   "execution_count": 18,
   "id": "f2a8f99e",
   "metadata": {},
   "outputs": [
    {
     "name": "stdout",
     "output_type": "stream",
     "text": [
      "Output: 866\n",
      "Time took: 0.0009542000479996204\n"
     ]
    }
   ],
   "source": [
    "arr2 = [random.randint(-10, 100) for _ in range(1000)]\n",
    "arr2.sort()\n",
    "\n",
    "def a(): return run(arr2, random.randint(-10, 100))\n",
    "exe_time = timeit.timeit(a, number=1000)\n",
    "print(f\"Output: {a()}\")\n",
    "print(f\"Time took: {exe_time}\")"
   ]
  }
 ],
 "metadata": {
  "kernelspec": {
   "display_name": "Python 3",
   "language": "python",
   "name": "python3"
  },
  "language_info": {
   "codemirror_mode": {
    "name": "ipython",
    "version": 3
   },
   "file_extension": ".py",
   "mimetype": "text/x-python",
   "name": "python",
   "nbconvert_exporter": "python",
   "pygments_lexer": "ipython3",
   "version": "3.13.1"
  }
 },
 "nbformat": 4,
 "nbformat_minor": 5
}
