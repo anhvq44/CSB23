{
 "cells": [
  {
   "cell_type": "markdown",
   "id": "e44dedbf",
   "metadata": {},
   "source": [
    "Duyệt qua từng phần tử -> kiểm tra gía trị -> return index\n",
    "<br>\n",
    "Nếu ko thấy -> return -1"
   ]
  },
  {
   "cell_type": "code",
   "execution_count": 2,
   "id": "4ed13a08",
   "metadata": {},
   "outputs": [],
   "source": [
    "def linearSearch(num_list, target):\n",
    "    if not num_list:\n",
    "        return -1\n",
    "    for index, value in enumerate(num_list):\n",
    "        if value == target: return index\n",
    "    return -1"
   ]
  },
  {
   "cell_type": "code",
   "execution_count": 4,
   "id": "4fe29135",
   "metadata": {},
   "outputs": [
    {
     "name": "stdout",
     "output_type": "stream",
     "text": [
      "Start running-------\n",
      "Finish--------\n",
      "Output: 6\n",
      "Time: 0.000009s\n",
      "Start running-------\n",
      "Finish--------\n",
      "Output: -1\n",
      "Time: 0.000004s\n",
      "Start running-------\n",
      "Finish--------\n",
      "Output: -1\n",
      "Time: 0.000001s\n"
     ]
    }
   ],
   "source": [
    "import sys\n",
    "import os\n",
    "\n",
    "module_path = os.path.abspath(os.path.join(os.path.dirname(\"../running_time\")))\n",
    "if module_path not in sys.path:\n",
    "    sys.path.append(module_path)\n",
    "\n",
    "arr = [492, 643, -30, 19, 69, 20, -439]\n",
    "\n",
    "from running_time import running_time_calc\n",
    "running_time_calc(lambda: linearSearch(arr, -439))\n",
    "running_time_calc(lambda: linearSearch(arr, -938))\n",
    "running_time_calc(lambda: linearSearch([], -439))\n",
    "\n"
   ]
  }
 ],
 "metadata": {
  "kernelspec": {
   "display_name": "Python 3",
   "language": "python",
   "name": "python3"
  },
  "language_info": {
   "codemirror_mode": {
    "name": "ipython",
    "version": 3
   },
   "file_extension": ".py",
   "mimetype": "text/x-python",
   "name": "python",
   "nbconvert_exporter": "python",
   "pygments_lexer": "ipython3",
   "version": "3.13.1"
  }
 },
 "nbformat": 4,
 "nbformat_minor": 5
}
